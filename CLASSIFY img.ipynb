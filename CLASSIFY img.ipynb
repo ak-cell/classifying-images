{
 "cells": [
  {
   "cell_type": "code",
   "execution_count": 1,
   "metadata": {},
   "outputs": [
    {
     "name": "stderr",
     "output_type": "stream",
     "text": [
      "Using TensorFlow backend.\n"
     ]
    }
   ],
   "source": [
    "#import the kera libraries and packages\n",
    "from keras.models import Sequential\n",
    "from keras.layers import Conv2D\n",
    "from keras.layers import MaxPooling2D\n",
    "from keras.layers import Flatten\n",
    "from keras.layers import Dense"
   ]
  },
  {
   "cell_type": "code",
   "execution_count": 2,
   "metadata": {},
   "outputs": [],
   "source": [
    "#Initialising the CNN\n",
    "classifier=Sequential()"
   ]
  },
  {
   "cell_type": "code",
   "execution_count": 3,
   "metadata": {},
   "outputs": [
    {
     "name": "stdout",
     "output_type": "stream",
     "text": [
      "WARNING:tensorflow:From C:\\Users\\aksha\\Anaconda3\\lib\\site-packages\\tensorflow\\python\\framework\\op_def_library.py:263: colocate_with (from tensorflow.python.framework.ops) is deprecated and will be removed in a future version.\n",
      "Instructions for updating:\n",
      "Colocations handled automatically by placer.\n"
     ]
    }
   ],
   "source": [
    "#Step1-Convolution\n",
    "classifier.add(Conv2D(32,(3,3),input_shape=(64,64,3),activation='relu'))"
   ]
  },
  {
   "cell_type": "code",
   "execution_count": 4,
   "metadata": {},
   "outputs": [],
   "source": [
    "#Step 2- Pooling \n",
    "classifier.add(MaxPooling2D(pool_size=(2,2)))"
   ]
  },
  {
   "cell_type": "code",
   "execution_count": 5,
   "metadata": {},
   "outputs": [],
   "source": [
    "#Adding a second convolution layer\n",
    "classifier.add(Conv2D(32,(3,3),activation='relu'))\n",
    "classifier.add(MaxPooling2D(pool_size=(2,2)))"
   ]
  },
  {
   "cell_type": "code",
   "execution_count": 6,
   "metadata": {},
   "outputs": [],
   "source": [
    "#Step 3 flattening\n",
    "classifier.add(Flatten())"
   ]
  },
  {
   "cell_type": "code",
   "execution_count": 7,
   "metadata": {},
   "outputs": [],
   "source": [
    "#Step 4- Full connection\n",
    "classifier.add(Dense(units=128,activation='relu'))\n",
    "classifier.add(Dense(units=1,activation='sigmoid'))\n"
   ]
  },
  {
   "cell_type": "code",
   "execution_count": 8,
   "metadata": {},
   "outputs": [],
   "source": [
    "#Compiling the CNN\n",
    "classifier.compile(optimizer='adam',loss='binary_crossentropy',metrics=['accuracy'])"
   ]
  },
  {
   "cell_type": "code",
   "execution_count": 9,
   "metadata": {},
   "outputs": [],
   "source": [
    "#Part2- Fitting the CNN TO the images\n",
    "from keras.preprocessing.image import ImageDataGenerator\n",
    "train_datagen=ImageDataGenerator(rescale=1./255,shear_range=0.2,zoom_range=0.2,horizontal_flip=True)\n",
    "test_datagen=ImageDataGenerator(rescale=1./255)"
   ]
  },
  {
   "cell_type": "code",
   "execution_count": 10,
   "metadata": {},
   "outputs": [
    {
     "name": "stdout",
     "output_type": "stream",
     "text": [
      "Found 8000 images belonging to 2 classes.\n",
      "Found 2000 images belonging to 2 classes.\n"
     ]
    }
   ],
   "source": [
    "training_set=train_datagen.flow_from_directory('C:/Users/aksha/Desktop/ai/Convolutional_Neural_Networks/dataset/training_set',target_size=(64,64),\n",
    "                                              batch_size=32,class_mode='binary')\n",
    "                                              \n",
    "test_set=test_datagen.flow_from_directory('C:/Users/aksha/Desktop/ai/Convolutional_Neural_Networks/dataset/test_set',target_size=(64,64),\n",
    "                                          batch_size=32,class_mode='binary')\n",
    "                                         \n"
   ]
  },
  {
   "cell_type": "code",
   "execution_count": 11,
   "metadata": {},
   "outputs": [
    {
     "name": "stdout",
     "output_type": "stream",
     "text": [
      "WARNING:tensorflow:From C:\\Users\\aksha\\Anaconda3\\lib\\site-packages\\tensorflow\\python\\ops\\math_ops.py:3066: to_int32 (from tensorflow.python.ops.math_ops) is deprecated and will be removed in a future version.\n",
      "Instructions for updating:\n",
      "Use tf.cast instead.\n",
      "Epoch 1/10\n",
      "8000/8000 [==============================] - 2731s 341ms/step - loss: 0.3471 - acc: 0.8367 - val_loss: 0.7800 - val_acc: 0.7766\n",
      "Epoch 2/10\n",
      "8000/8000 [==============================] - 2660s 333ms/step - loss: 0.0889 - acc: 0.9665 - val_loss: 0.9339 - val_acc: 0.8134\n",
      "Epoch 3/10\n",
      "8000/8000 [==============================] - 2643s 330ms/step - loss: 0.0462 - acc: 0.9838 - val_loss: 1.1603 - val_acc: 0.7989\n",
      "Epoch 4/10\n",
      "8000/8000 [==============================] - 2622s 328ms/step - loss: 0.0337 - acc: 0.9885 - val_loss: 1.2078 - val_acc: 0.7960\n",
      "Epoch 5/10\n",
      "8000/8000 [==============================] - 2613s 327ms/step - loss: 0.0276 - acc: 0.9909 - val_loss: 1.2709 - val_acc: 0.8161\n",
      "Epoch 6/10\n",
      "8000/8000 [==============================] - 2625s 328ms/step - loss: 0.0244 - acc: 0.9920 - val_loss: 1.3800 - val_acc: 0.7950\n",
      "Epoch 7/10\n",
      "8000/8000 [==============================] - 9755s 1s/step - loss: 0.0200 - acc: 0.9936 - val_loss: 1.3881 - val_acc: 0.8009\n",
      "Epoch 8/10\n",
      "8000/8000 [==============================] - 2658s 332ms/step - loss: 0.0180 - acc: 0.9944 - val_loss: 1.5100 - val_acc: 0.7932\n",
      "Epoch 9/10\n",
      "8000/8000 [==============================] - 2675s 334ms/step - loss: 0.0166 - acc: 0.9948 - val_loss: 1.5162 - val_acc: 0.8030\n",
      "Epoch 10/10\n",
      "8000/8000 [==============================] - 2674s 334ms/step - loss: 0.0156 - acc: 0.9950 - val_loss: 1.6319 - val_acc: 0.7821\n"
     ]
    },
    {
     "data": {
      "text/plain": [
       "<keras.callbacks.History at 0x1d0b2ec4ef0>"
      ]
     },
     "execution_count": 11,
     "metadata": {},
     "output_type": "execute_result"
    }
   ],
   "source": [
    "classifier.fit_generator(training_set,\n",
    "                         steps_per_epoch=8000,\n",
    "                         epochs=10,\n",
    "                         validation_data=test_set,\n",
    "                         validation_steps=2000)"
   ]
  },
  {
   "cell_type": "code",
   "execution_count": 12,
   "metadata": {},
   "outputs": [],
   "source": [
    "# Making new predictions \n",
    "import numpy as np\n",
    "from keras.preprocessing import image\n",
    "test_image=image.load_img('C:/Users/aksha/Desktop/ai/Convolutional_Neural_Networks/dataset/single_prediction/cd1.jpg',target_size=(64,64))\n",
    "test_image=image.img_to_array(test_image)\n",
    "test_image=np.expand_dims(test_image,axis=0)\n",
    "result=classifier.predict(test_image)\n",
    "training_set.class_indices\n",
    "if result[0] [0] == 1:\n",
    "    prediction='dog'\n",
    "else:\n",
    "    prediction='cat'\n"
   ]
  },
  {
   "cell_type": "code",
   "execution_count": 13,
   "metadata": {},
   "outputs": [
    {
     "name": "stdout",
     "output_type": "stream",
     "text": [
      "dog\n"
     ]
    }
   ],
   "source": [
    "print(prediction)"
   ]
  },
  {
   "cell_type": "code",
   "execution_count": null,
   "metadata": {},
   "outputs": [],
   "source": []
  }
 ],
 "metadata": {
  "kernelspec": {
   "display_name": "Python 3",
   "language": "python",
   "name": "python3"
  },
  "language_info": {
   "codemirror_mode": {
    "name": "ipython",
    "version": 3
   },
   "file_extension": ".py",
   "mimetype": "text/x-python",
   "name": "python",
   "nbconvert_exporter": "python",
   "pygments_lexer": "ipython3",
   "version": "3.6.5"
  }
 },
 "nbformat": 4,
 "nbformat_minor": 2
}
